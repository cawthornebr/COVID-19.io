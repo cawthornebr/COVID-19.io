{
 "cells": [
  {
   "cell_type": "code",
   "execution_count": 2,
   "metadata": {},
   "outputs": [],
   "source": [
    "import matplotlib.pyplot as plt\n",
    "import csv\n",
    "import pandas as pd"
   ]
  },
  {
   "cell_type": "markdown",
   "metadata": {},
   "source": [
    "# Bring in files and load into dataframe"
   ]
  },
  {
   "cell_type": "code",
   "execution_count": 3,
   "metadata": {},
   "outputs": [
    {
     "name": "stdout",
     "output_type": "stream",
     "text": [
      "Enter state: arizona\n"
     ]
    }
   ],
   "source": [
    "states = input(\"Enter state: \")\n",
    "states = states.lower()"
   ]
  },
  {
   "cell_type": "code",
   "execution_count": 4,
   "metadata": {},
   "outputs": [],
   "source": [
    "path = f\"C:/Users/Fiona/Documents/School/UofA Boot Camp/Github Repositories/COVID-19.io/data/{states}_data/{states}_master_file.csv\"\n",
    "master_df = pd.read_csv(path)\n",
    "master_df = master_df[master_df.County != 'Unassigned']"
   ]
  },
  {
   "cell_type": "markdown",
   "metadata": {},
   "source": [
    "# Format dataframe"
   ]
  },
  {
   "cell_type": "code",
   "execution_count": 5,
   "metadata": {},
   "outputs": [],
   "source": [
    "import datetime as dt\n",
    "master_df['Date'] = master_df['Date'].apply(pd.to_datetime)\n",
    "master_df['Date'] = master_df['Date'].dt.strftime('%m/%d')\n",
    "master_df.sort_values(by=['County','Date'], inplace=True)\n",
    "master_df = master_df.drop(columns=['FIPS', 'State','Country','lat','lon','Active','Combined_Key'])\n",
    "master_df = master_df.drop(columns=['Confirmed.1'])\n",
    "master_df = master_df.dropna()"
   ]
  },
  {
   "cell_type": "markdown",
   "metadata": {},
   "source": [
    "# Pivot dataframe for confirmed cases"
   ]
  },
  {
   "cell_type": "code",
   "execution_count": 6,
   "metadata": {},
   "outputs": [],
   "source": [
    "try:\n",
    "    master_df_confirmed = master_df.pivot(index=master_df.columns[0],\n",
    "                  columns=master_df.columns[1],\n",
    "                  values= master_df.columns[2])\n",
    "except:\n",
    "    master_df_confirmed = master_df.pivot_table(index='County', columns='Date', values='Confirmed')\n",
    "dates_confirmed = list(master_df_confirmed.columns)\n",
    "master_df_confirmed = master_df_confirmed.sort_values(by=dates_confirmed[-1], ascending=False)\n",
    "master_df_confirmed = master_df_confirmed.dropna()\n",
    "master_df_confirmed=master_df_confirmed[master_df_confirmed[dates_confirmed[-1]]!=0].dropna()\n",
    "master_df_confirmed.to_html(f'data/{states}_data/{states}_table.html')\n",
    "master_df_confirmed"
   ]
  },
  {
   "cell_type": "markdown",
   "metadata": {},
   "source": [
    "# Matplotlib for confirmed cases"
   ]
  },
  {
   "cell_type": "code",
   "execution_count": 7,
   "metadata": {},
   "outputs": [],
   "source": [
    "filter_list = master_df_confirmed[dates_confirmed[-1]]\n",
    "li_1 = []\n",
    "li_5000 = []\n",
    "li_200 = []\n",
    "li_50 = []\n",
    "li_min = []\n",
    "li_zero = []\n",
    "count = 0\n",
    "for i in filter_list:\n",
    "    if i == 0:\n",
    "        li_zero.append(master_df_confirmed.iloc[count])\n",
    "    elif i <= 10:\n",
    "        li_min.append(master_df_confirmed.iloc[count])\n",
    "    elif i <= 50:\n",
    "        li_50.append(master_df_confirmed.iloc[count])\n",
    "    elif i <= 300:\n",
    "        li_200.append(master_df_confirmed.iloc[count])\n",
    "    elif i <= 5000:\n",
    "        li_5000.append(master_df_confirmed.iloc[count])\n",
    "    else:\n",
    "        li_1.append(master_df_confirmed.iloc[count])\n",
    "    count+=1"
   ]
  },
  {
   "cell_type": "code",
   "execution_count": null,
   "metadata": {},
   "outputs": [],
   "source": [
    "if len(li_min) != 0:\n",
    "    if len(li_min) > 75:\n",
    "        plt.figure(figsize=(15,12))\n",
    "        for i in li_min:\n",
    "            plt.plot(i,label = i.name,)\n",
    "        plt.legend(loc='upper left', ncol=2, fancybox=True, shadow=True, bbox_to_anchor=(1.0, 1.01),fontsize=13)\n",
    "        plt.title(f\"{states} counties with >10 confirmed cases on {dates_confirmed[-1]}\",fontsize=30)\n",
    "        plt.xlabel(\"Date\",fontsize=30)\n",
    "        plt.ylabel(\"Confirmed Cases\",fontsize=30)\n",
    "        plt.xticks(rotation=65,fontsize=15)\n",
    "        plt.yticks(fontsize=15)\n",
    "        plt.grid()\n",
    "        plt.tight_layout()\n",
    "        plt.savefig(f'data/{states}_data/{states}_confirmed_fig_1.png',dpi=200)\n",
    "    else:\n",
    "        plt.figure(figsize=(15,15))\n",
    "        for i in li_min:\n",
    "            plt.plot(i,label = i.name,)\n",
    "        plt.legend(loc='upper left', ncol=2, fancybox=True, shadow=True, bbox_to_anchor=(1.0, 1.01),fontsize=13)\n",
    "        plt.title(f\"{states} counties with >10 confirmed cases on {dates_confirmed[-1]}\",fontsize=30)\n",
    "        plt.xlabel(\"Date\",fontsize=30)\n",
    "        plt.ylabel(\"Confirmed Cases\",fontsize=30)\n",
    "        plt.xticks(rotation=65,fontsize=15)\n",
    "        plt.yticks(fontsize=15)\n",
    "        plt.grid()\n",
    "        plt.tight_layout()\n",
    "        plt.savefig(f'data/{states}_data/{states}_confirmed_fig_1.png',dpi=200)"
   ]
  },
  {
   "cell_type": "code",
   "execution_count": null,
   "metadata": {},
   "outputs": [],
   "source": [
    "if len(li_min) != 0:\n",
    "    if len(li_min) > 65:\n",
    "        li_min_df = pd.DataFrame(li_min)\n",
    "        neww = li_min_df.plot.bar(figsize=(17,8),zorder=2,fontsize=10)\n",
    "        neww.set_facecolor(\"lightgrey\")\n",
    "        plt.legend(loc='upper center', bbox_to_anchor=(1.06, 1.02), ncol=1, fancybox=True,fontsize=15)\n",
    "        plt.ylabel(\"Confirmed Cases\",fontsize=30)\n",
    "        plt.xlabel(\"County\",fontsize=30)\n",
    "        plt.grid(zorder=0, color=\"black\",linestyle=\"dotted\")\n",
    "        plt.title(f\"{states} counties with >10 confirmed cases on {dates_confirmed[-1]}\",fontsize=30)\n",
    "        plt.tight_layout()\n",
    "        plt.savefig(f'data/{states}_data/{states}_bar_confirmed1.png',dpi=200)\n",
    "        plt.show()\n",
    "    else:\n",
    "        li_min_df = pd.DataFrame(li_min)\n",
    "        neww = li_min_df.plot.bar(figsize=(13,8),zorder=2,fontsize = 15)\n",
    "        neww.set_facecolor(\"lightgrey\")\n",
    "        plt.legend(loc='upper center', bbox_to_anchor=(1.06, 1.02), ncol=1, fancybox=True,fontsize=15)\n",
    "        plt.ylabel(\"Confirmed Cases\",fontsize=30)\n",
    "        plt.xlabel(\"County\",fontsize=30)\n",
    "        plt.grid(zorder=0, color=\"black\",linestyle=\"dotted\")\n",
    "        plt.title(f\"{states} counties with >10 confirmed cases on {dates_confirmed[-1]}\",fontsize=30)\n",
    "        plt.tight_layout()\n",
    "        plt.savefig(f'data/{states}_data/{states}_bar_confirmed1.png',dpi=200)\n",
    "        plt.show()"
   ]
  },
  {
   "cell_type": "code",
   "execution_count": null,
   "metadata": {},
   "outputs": [],
   "source": [
    "plt.figure(figsize=(15,12))\n",
    "for i in li_50:\n",
    "    plt.plot(i,label = i.name,)\n",
    "plt.legend(loc='upper left', ncol=1, fancybox=True, shadow=True, bbox_to_anchor=(1.0, 1.01),fontsize=15)\n",
    "plt.title(f\"{states} counties with 10>50 confirmed cases on {dates_confirmed[-1]}\",fontsize=30)\n",
    "plt.xlabel(\"Date\",fontsize=30)\n",
    "plt.ylabel(\"Confirmed Cases\",fontsize=30)\n",
    "plt.xticks(rotation=65,fontsize=15)\n",
    "plt.yticks(fontsize=15)\n",
    "plt.grid()\n",
    "plt.tight_layout()\n",
    "plt.savefig(f'data/{states}_data/{states}_confirmed_fig_2.png',dpi=200)"
   ]
  },
  {
   "cell_type": "code",
   "execution_count": null,
   "metadata": {},
   "outputs": [],
   "source": [
    "li_50_df = pd.DataFrame(li_50)\n",
    "neww = li_50_df.plot.bar(figsize=(13,8),zorder=2,fontsize = 15)\n",
    "neww.set_facecolor(\"lightgrey\")\n",
    "plt.legend(loc='upper center', bbox_to_anchor=(1.06, 1.02), ncol=1, fancybox=True,fontsize=15)\n",
    "plt.ylabel(\"Confirmed Cases\",fontsize=30)\n",
    "plt.xlabel(\"County\",fontsize=30)\n",
    "plt.grid(zorder=0, color=\"black\",linestyle=\"dotted\")\n",
    "plt.title(f\"{states} counties with 10>50 confirmed cases on {dates_confirmed[-1]}\",fontsize=30)\n",
    "plt.tight_layout()\n",
    "plt.savefig(f'data/{states}_data/{states}_bar_confirmed2.png',dpi=200)\n",
    "plt.show()"
   ]
  },
  {
   "cell_type": "code",
   "execution_count": null,
   "metadata": {},
   "outputs": [],
   "source": [
    "plt.figure(figsize=(15,12))\n",
    "for i in li_200:\n",
    "    plt.plot(i,label = i.name,)\n",
    "plt.legend(loc='upper left', ncol=1, fancybox=True, shadow=True, bbox_to_anchor=(1.0, 1.01),fontsize=15)\n",
    "plt.title(f\"{states} counties with 50>300 confirmed cases on {dates_confirmed[-1]}\",fontsize=30)\n",
    "plt.xlabel(\"Date\",fontsize=30)\n",
    "plt.ylabel(\"Confirmed Cases\",fontsize=30)\n",
    "plt.xticks(rotation=65,fontsize=15)\n",
    "plt.yticks(fontsize=15)\n",
    "plt.grid()\n",
    "plt.tight_layout()\n",
    "plt.savefig(f'data/{states}_data/{states}_confirmed_fig_3.png',dpi=200)"
   ]
  },
  {
   "cell_type": "code",
   "execution_count": null,
   "metadata": {},
   "outputs": [],
   "source": [
    "li_200_df = pd.DataFrame(li_200)\n",
    "neww = li_200_df.plot.bar(figsize=(13,8),zorder=2,fontsize = 15)\n",
    "neww.set_facecolor(\"lightgrey\")\n",
    "plt.legend(loc='upper center', bbox_to_anchor=(1.06, 1.02), ncol=1, fancybox=True,fontsize=15)\n",
    "plt.ylabel(\"Confirmed Cases\",fontsize=30)\n",
    "plt.xlabel(\"County\",fontsize=30)\n",
    "plt.grid(zorder=0, color=\"black\",linestyle=\"dotted\")\n",
    "plt.title(f\"{states} counties with 50>300 confirmed cases on {dates_confirmed[-1]}\",fontsize=30)\n",
    "plt.tight_layout()\n",
    "plt.savefig(f'data/{states}_data/{states}_bar_confirmed3.png',dpi=200)\n",
    "plt.show()"
   ]
  },
  {
   "cell_type": "code",
   "execution_count": null,
   "metadata": {},
   "outputs": [],
   "source": [
    "if len(li_5000) != 0:\n",
    "    plt.figure(figsize=(15,12))\n",
    "    for i in li_5000:\n",
    "        plt.plot(i,label = i.name,)\n",
    "    plt.legend(loc='upper left', ncol=1, fancybox=True, shadow=True, bbox_to_anchor=(1.0, 1.01),fontsize=15)\n",
    "    plt.title(f\"{states} counties with 300-5000 confirmed cases on {dates_confirmed[-1]}\",fontsize=30)\n",
    "    plt.xlabel(\"Date\",fontsize=30)\n",
    "    plt.ylabel(\"Confirmed Cases\",fontsize=30)\n",
    "    plt.xticks(rotation=65,fontsize=15)\n",
    "    plt.yticks(fontsize=15)\n",
    "    plt.grid()\n",
    "    plt.tight_layout()\n",
    "    plt.savefig(f'data/{states}_data/{states}_confirmed_fig_4.png',dpi=200)"
   ]
  },
  {
   "cell_type": "code",
   "execution_count": null,
   "metadata": {},
   "outputs": [],
   "source": [
    "if len(li_5000) != 0:\n",
    "    li_5000_df = pd.DataFrame(li_5000)\n",
    "    neww = li_5000_df.plot.bar(figsize=(13,8),zorder=2,fontsize = 15)   \n",
    "#     last_num=0\n",
    "#     if len(li_5000) < 2:\n",
    "#         for i in neww.patches:\n",
    "#             if last_num != 0:\n",
    "#                 inc_amt = i.get_height()-last_num\n",
    "#                 neww.text(i.get_x(), i.get_height(), \\\n",
    "#                     str(f'+{inc_amt}'), fontsize=12,color='black')\n",
    "#             last_num = int(i.get_height())\n",
    "    neww.set_facecolor(\"lightgrey\")\n",
    "    plt.legend(loc='upper center', bbox_to_anchor=(1.06, 1.02), ncol=1, fancybox=True,fontsize=15)\n",
    "    plt.ylabel(\"Confirmed Cases\",fontsize=30)\n",
    "    plt.xlabel(\"County\",fontsize=30)\n",
    "    plt.grid(zorder=0, color=\"black\",linestyle=\"dotted\")\n",
    "    plt.title(f\"{states} counties with 300-5000 confirmed cases on {dates_confirmed[-1]}\",fontsize=30)\n",
    "    plt.tight_layout()\n",
    "    plt.savefig(f'data/{states}_data/{states}_bar_confirmed4.png',dpi=200)\n",
    "    plt.show()"
   ]
  },
  {
   "cell_type": "code",
   "execution_count": null,
   "metadata": {},
   "outputs": [],
   "source": [
    "if len(li_1) != 0:\n",
    "    plt.figure(figsize=(15,12))\n",
    "    for i in li_1:\n",
    "        plt.plot(i,label = i.name,)\n",
    "    plt.legend(loc='upper left', ncol=1, fancybox=True, shadow=True, bbox_to_anchor=(1.0, 1.01),fontsize=15)\n",
    "    plt.title(f\"{states} counties with 5000+ confirmed cases on {dates_confirmed[-1]}\",fontsize=30)\n",
    "    plt.xlabel(\"Date\",fontsize=30)\n",
    "    plt.ylabel(\"Confirmed Cases\",fontsize=30)\n",
    "    plt.xticks(rotation=65,fontsize=15)\n",
    "    plt.yticks(fontsize=15)\n",
    "    plt.grid()\n",
    "    plt.tight_layout()\n",
    "    plt.savefig(f'data/{states}_data/{states}_confirmed_fig_5.png',dpi=200)"
   ]
  },
  {
   "cell_type": "code",
   "execution_count": null,
   "metadata": {},
   "outputs": [],
   "source": [
    "if len(li_1) != 0:\n",
    "    li_1_df = pd.DataFrame(li_1)\n",
    "    neww = li_1_df.plot.bar(figsize=(13,8),zorder=2,fontsize = 15)\n",
    "#     for i in neww.patches:\n",
    "#         if last_num != 0:\n",
    "#             inc_amt = i.get_height()-last_num\n",
    "#             neww.text(i.get_x(), i.get_height(), \\\n",
    "#                 str(f'+{inc_amt}'), fontsize=12,color='black')\n",
    "#         last_num = int(i.get_height())\n",
    "    neww.set_facecolor(\"lightgrey\")\n",
    "    plt.legend(loc='upper center', bbox_to_anchor=(1.06, 1.02), ncol=1, fancybox=True, shadow=True,fontsize=15)\n",
    "    plt.ylabel(\"Confirmed Cases\",fontsize=30)\n",
    "    plt.xlabel(\"County\",fontsize=30)\n",
    "    plt.grid(zorder=0, color=\"black\",linestyle=\"dotted\")\n",
    "    plt.title(f\"{states} counties with 5000+ confirmed cases on {dates_confirmed[-1]}\",fontsize=30)\n",
    "    plt.tight_layout()\n",
    "    plt.savefig(f'data/{states}_data/{states}_bar_confirmed5.png',dpi=200)\n",
    "    plt.show()"
   ]
  },
  {
   "cell_type": "code",
   "execution_count": null,
   "metadata": {
    "scrolled": false
   },
   "outputs": [],
   "source": [
    "if states == \"texas\" or \"virginia\":\n",
    "    neww = master_df_confirmed.plot.bar(figsize=(17,8),zorder=2,fontsize = 5)\n",
    "    plt.legend(loc='upper center', bbox_to_anchor=(1.06, 1.02), ncol=1, fancybox=True, shadow=True,fontsize=15)\n",
    "    plt.ylabel(\"Confirmed Cases\",fontsize=30)\n",
    "    plt.xlabel(\"County\",fontsize=30)\n",
    "    plt.grid(zorder=0, color=\"black\",linestyle=\"dotted\")\n",
    "    plt.title(f\"{states} confirmed cases - all counties\",fontsize=30)\n",
    "    # plt.xticks(rotation=65)\n",
    "    plt.tight_layout()\n",
    "    plt.savefig(f'data/{states}_data/{states}_bar_confirmed.png',dpi=200)\n",
    "    plt.show()\n",
    "else:\n",
    "    neww = master_df_confirmed.plot.bar(figsize=(13,8),zorder=2,fontsize = 15)\n",
    "    plt.legend(loc='upper center', bbox_to_anchor=(1.06, 1.02), ncol=1, fancybox=True, shadow=True,fontsize=15)\n",
    "    plt.ylabel(\"Confirmed Cases\",fontsize=30)\n",
    "    plt.xlabel(\"County\",fontsize=30)\n",
    "    plt.grid(zorder=0, color=\"black\",linestyle=\"dotted\")\n",
    "    plt.title(f\"{states} confirmed cases - all counties\",fontsize=30)\n",
    "    plt.tight_layout()\n",
    "    plt.savefig(f'data/{states}_data/{states}_bar_confirmed.png',dpi=200)\n",
    "    plt.show()"
   ]
  }
 ],
 "metadata": {
  "kernelspec": {
   "display_name": "Python 3",
   "language": "python",
   "name": "python3"
  },
  "language_info": {
   "codemirror_mode": {
    "name": "ipython",
    "version": 3
   },
   "file_extension": ".py",
   "mimetype": "text/x-python",
   "name": "python",
   "nbconvert_exporter": "python",
   "pygments_lexer": "ipython3",
   "version": "3.7.4"
  }
 },
 "nbformat": 4,
 "nbformat_minor": 2
}
