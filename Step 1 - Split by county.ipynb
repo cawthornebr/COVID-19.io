{
 "cells": [
  {
   "cell_type": "code",
   "execution_count": 31,
   "metadata": {},
   "outputs": [],
   "source": [
    "import os\n",
    "import pandas as pd\n",
    "from csv_dir import new_path\n",
    "from create_county_csv import create_files\n",
    "from save_df import save_df"
   ]
  },
  {
   "cell_type": "code",
   "execution_count": 32,
   "metadata": {},
   "outputs": [],
   "source": [
    "path = \"C:/Users/Fiona/Documents/School/UofA Boot Camp/Github Repositories/COVID-19/csse_covid_19_data/csse_covid_19_daily_reports\"\n",
    "all_csv_files = new_path(path)"
   ]
  },
  {
   "cell_type": "code",
   "execution_count": 33,
   "metadata": {},
   "outputs": [
    {
     "name": "stdout",
     "output_type": "stream",
     "text": [
      "Enter state: oregon\n"
     ]
    }
   ],
   "source": [
    "state = input(\"Enter state: \")\n",
    "state = state.lower()"
   ]
  },
  {
   "cell_type": "code",
   "execution_count": 34,
   "metadata": {
    "scrolled": true
   },
   "outputs": [],
   "source": [
    "county_dict = create_files(state, path, all_csv_files)"
   ]
  },
  {
   "cell_type": "code",
   "execution_count": 35,
   "metadata": {},
   "outputs": [],
   "source": [
    "path_save = f\"C:/Users/Fiona/Documents/School/UofA Boot Camp/Github Repositories/COVID-19.io/{state}_data\"\n",
    "try:\n",
    "    os.mkdir(path_save)\n",
    "except:\n",
    "    print(\"directory alredy exists\")"
   ]
  },
  {
   "cell_type": "code",
   "execution_count": 36,
   "metadata": {},
   "outputs": [],
   "source": [
    "save_df(county_dict,path_save,state)"
   ]
  }
 ],
 "metadata": {
  "kernelspec": {
   "display_name": "Python 3",
   "language": "python",
   "name": "python3"
  },
  "language_info": {
   "codemirror_mode": {
    "name": "ipython",
    "version": 3
   },
   "file_extension": ".py",
   "mimetype": "text/x-python",
   "name": "python",
   "nbconvert_exporter": "python",
   "pygments_lexer": "ipython3",
   "version": "3.7.4"
  }
 },
 "nbformat": 4,
 "nbformat_minor": 2
}
